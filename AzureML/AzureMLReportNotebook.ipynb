{
  "cells": [
    {
      "cell_type": "markdown",
      "source": [
        "# Regresja cen nieruchomości\r\n",
        "\r\n",
        "Zadanie polega na predykcji cen nieruchomości na podstawie cech takich jak współrzędne geograficzne, parametry techniczne (np. liczba sypialni, łazienek, pięter) oraz oceny (np. standardu wykończenia czy stanu nieruchomości).\r\n",
        "\r\n",
        "Dane: https://www.kaggle.com/shivachandel/kc-house-data\r\n",
        "\r\n",
        "## Kroki, które należy wykonać w celu reprodukcji rozwiązania:\r\n",
        "* Utworzenie zasobu Machine Learning\r\n",
        "* Utworzenie zasobu obliczeniowego (Compute)\r\n",
        "* Załadowanie zbioru danych do Azure Machine Learning\r\n",
        "* Przygotowanie kodu"
      ],
      "metadata": {
        "nteract": {
          "transient": {
            "deleting": false
          }
        }
      }
    },
    {
      "cell_type": "markdown",
      "source": [
        "## Przygotowanie potrzebnych bibliotek i wczytane Workspace'u\r\n"
      ],
      "metadata": {
        "nteract": {
          "transient": {
            "deleting": false
          }
        }
      }
    },
    {
      "cell_type": "code",
      "source": [
        "    from azureml.core.workspace import Workspace\r\n",
        "    from azureml.core.dataset import Dataset\r\n",
        "    from azureml.core.experiment import Experiment\r\n",
        "    from azureml.train.automl import AutoMLConfig\r\n",
        "    from azureml.widgets import RunDetails\r\n",
        "    from sklearn.model_selection import train_test_split\r\n",
        "    from sklearn.metrics import mean_squared_error"
      ],
      "outputs": [],
      "execution_count": 6,
      "metadata": {
        "gather": {
          "logged": 1611699234204
        }
      }
    },
    {
      "cell_type": "code",
      "source": [
        "ws = Workspace.from_config()"
      ],
      "outputs": [],
      "execution_count": 7,
      "metadata": {
        "collapsed": true,
        "jupyter": {
          "source_hidden": false,
          "outputs_hidden": false
        },
        "nteract": {
          "transient": {
            "deleting": false
          }
        },
        "gather": {
          "logged": 1611699234529
        }
      }
    },
    {
      "cell_type": "markdown",
      "source": [
        "## Wczytanie danych"
      ],
      "metadata": {
        "nteract": {
          "transient": {
            "deleting": false
          }
        }
      }
    },
    {
      "cell_type": "code",
      "source": [
        "dataset = Dataset.get_by_name(workspace=ws, name=\"kc_house_data\")"
      ],
      "outputs": [],
      "execution_count": 8,
      "metadata": {
        "collapsed": true,
        "jupyter": {
          "source_hidden": false,
          "outputs_hidden": false
        },
        "nteract": {
          "transient": {
            "deleting": false
          }
        },
        "gather": {
          "logged": 1611699234765
        }
      }
    },
    {
      "cell_type": "markdown",
      "source": [
        "## Przekształcenie danych w ramkę i prezentacja kilku wierszy dancyh"
      ],
      "metadata": {
        "nteract": {
          "transient": {
            "deleting": false
          }
        }
      }
    },
    {
      "cell_type": "code",
      "source": [
        "df = dataset.to_pandas_dataframe()\r\n",
        "df.head()"
      ],
      "outputs": [
        {
          "output_type": "execute_result",
          "execution_count": 9,
          "data": {
            "text/plain": "           id             date     price  bedrooms  bathrooms  sqft_living  \\\n0  7129300520  20141013T000000  221900.0         3       1.00         1180   \n1  6414100192  20141209T000000  538000.0         3       2.25         2570   \n2  5631500400  20150225T000000  180000.0         2       1.00          770   \n3  2487200875  20141209T000000  604000.0         4       3.00         1960   \n4  1954400510  20150218T000000  510000.0         3       2.00         1680   \n\n   sqft_lot  floors  waterfront  view  ...  grade  sqft_above  sqft_basement  \\\n0      5650     1.0           0     0  ...      7      1180.0              0   \n1      7242     2.0           0     0  ...      7      2170.0            400   \n2     10000     1.0           0     0  ...      6       770.0              0   \n3      5000     1.0           0     0  ...      7      1050.0            910   \n4      8080     1.0           0     0  ...      8      1680.0              0   \n\n   yr_built  yr_renovated  zipcode      lat     long  sqft_living15  \\\n0      1955             0    98178  47.5112 -122.257           1340   \n1      1951          1991    98125  47.7210 -122.319           1690   \n2      1933             0    98028  47.7379 -122.233           2720   \n3      1965             0    98136  47.5208 -122.393           1360   \n4      1987             0    98074  47.6168 -122.045           1800   \n\n   sqft_lot15  \n0        5650  \n1        7639  \n2        8062  \n3        5000  \n4        7503  \n\n[5 rows x 21 columns]",
            "text/html": "<div>\n<style scoped>\n    .dataframe tbody tr th:only-of-type {\n        vertical-align: middle;\n    }\n\n    .dataframe tbody tr th {\n        vertical-align: top;\n    }\n\n    .dataframe thead th {\n        text-align: right;\n    }\n</style>\n<table border=\"1\" class=\"dataframe\">\n  <thead>\n    <tr style=\"text-align: right;\">\n      <th></th>\n      <th>id</th>\n      <th>date</th>\n      <th>price</th>\n      <th>bedrooms</th>\n      <th>bathrooms</th>\n      <th>sqft_living</th>\n      <th>sqft_lot</th>\n      <th>floors</th>\n      <th>waterfront</th>\n      <th>view</th>\n      <th>...</th>\n      <th>grade</th>\n      <th>sqft_above</th>\n      <th>sqft_basement</th>\n      <th>yr_built</th>\n      <th>yr_renovated</th>\n      <th>zipcode</th>\n      <th>lat</th>\n      <th>long</th>\n      <th>sqft_living15</th>\n      <th>sqft_lot15</th>\n    </tr>\n  </thead>\n  <tbody>\n    <tr>\n      <th>0</th>\n      <td>7129300520</td>\n      <td>20141013T000000</td>\n      <td>221900.0</td>\n      <td>3</td>\n      <td>1.00</td>\n      <td>1180</td>\n      <td>5650</td>\n      <td>1.0</td>\n      <td>0</td>\n      <td>0</td>\n      <td>...</td>\n      <td>7</td>\n      <td>1180.0</td>\n      <td>0</td>\n      <td>1955</td>\n      <td>0</td>\n      <td>98178</td>\n      <td>47.5112</td>\n      <td>-122.257</td>\n      <td>1340</td>\n      <td>5650</td>\n    </tr>\n    <tr>\n      <th>1</th>\n      <td>6414100192</td>\n      <td>20141209T000000</td>\n      <td>538000.0</td>\n      <td>3</td>\n      <td>2.25</td>\n      <td>2570</td>\n      <td>7242</td>\n      <td>2.0</td>\n      <td>0</td>\n      <td>0</td>\n      <td>...</td>\n      <td>7</td>\n      <td>2170.0</td>\n      <td>400</td>\n      <td>1951</td>\n      <td>1991</td>\n      <td>98125</td>\n      <td>47.7210</td>\n      <td>-122.319</td>\n      <td>1690</td>\n      <td>7639</td>\n    </tr>\n    <tr>\n      <th>2</th>\n      <td>5631500400</td>\n      <td>20150225T000000</td>\n      <td>180000.0</td>\n      <td>2</td>\n      <td>1.00</td>\n      <td>770</td>\n      <td>10000</td>\n      <td>1.0</td>\n      <td>0</td>\n      <td>0</td>\n      <td>...</td>\n      <td>6</td>\n      <td>770.0</td>\n      <td>0</td>\n      <td>1933</td>\n      <td>0</td>\n      <td>98028</td>\n      <td>47.7379</td>\n      <td>-122.233</td>\n      <td>2720</td>\n      <td>8062</td>\n    </tr>\n    <tr>\n      <th>3</th>\n      <td>2487200875</td>\n      <td>20141209T000000</td>\n      <td>604000.0</td>\n      <td>4</td>\n      <td>3.00</td>\n      <td>1960</td>\n      <td>5000</td>\n      <td>1.0</td>\n      <td>0</td>\n      <td>0</td>\n      <td>...</td>\n      <td>7</td>\n      <td>1050.0</td>\n      <td>910</td>\n      <td>1965</td>\n      <td>0</td>\n      <td>98136</td>\n      <td>47.5208</td>\n      <td>-122.393</td>\n      <td>1360</td>\n      <td>5000</td>\n    </tr>\n    <tr>\n      <th>4</th>\n      <td>1954400510</td>\n      <td>20150218T000000</td>\n      <td>510000.0</td>\n      <td>3</td>\n      <td>2.00</td>\n      <td>1680</td>\n      <td>8080</td>\n      <td>1.0</td>\n      <td>0</td>\n      <td>0</td>\n      <td>...</td>\n      <td>8</td>\n      <td>1680.0</td>\n      <td>0</td>\n      <td>1987</td>\n      <td>0</td>\n      <td>98074</td>\n      <td>47.6168</td>\n      <td>-122.045</td>\n      <td>1800</td>\n      <td>7503</td>\n    </tr>\n  </tbody>\n</table>\n<p>5 rows × 21 columns</p>\n</div>"
          },
          "metadata": {}
        }
      ],
      "execution_count": 9,
      "metadata": {
        "collapsed": true,
        "jupyter": {
          "source_hidden": false,
          "outputs_hidden": false
        },
        "nteract": {
          "transient": {
            "deleting": false
          }
        },
        "gather": {
          "logged": 1611699238907
        }
      }
    },
    {
      "cell_type": "markdown",
      "source": [
        "## Podział zbioru na dane uczące i testowe"
      ],
      "metadata": {
        "nteract": {
          "transient": {
            "deleting": false
          }
        }
      }
    },
    {
      "cell_type": "code",
      "source": [
        "df_train, df_test = train_test_split(df, test_size=0.2)"
      ],
      "outputs": [],
      "execution_count": 10,
      "metadata": {
        "collapsed": true,
        "jupyter": {
          "source_hidden": false,
          "outputs_hidden": false
        },
        "nteract": {
          "transient": {
            "deleting": false
          }
        },
        "gather": {
          "logged": 1611699239061
        }
      }
    },
    {
      "cell_type": "markdown",
      "source": [
        "## Przygotowanie ustawień eksperymentu"
      ],
      "metadata": {
        "nteract": {
          "transient": {
            "deleting": false
          }
        }
      }
    },
    {
      "cell_type": "code",
      "source": [
        "settings = {\r\n",
        "    \"iteration_timeout_minutes\": 3,\r\n",
        "    \"experiment_timeout_minutes\": 30,\r\n",
        "    \"enable_early_stopping\": True,\r\n",
        "    \"primary_metric\": 'normalized_root_mean_squared_error',\r\n",
        "    \"featurization\": 'auto',\r\n",
        "    \"n_cross_validations\": 4,\r\n",
        "    \"label_column_name\":\"price\",# nazwa kolumny ze zmienną opisywaną\r\n",
        "    \"task\":\"regression\",\r\n",
        "    \"iterations\": 20, #liczba iteracji do wykonania\r\n",
        "    \"max_cores_per_iteration\": -1, #Wszystkie dostępne rdzenie\r\n",
        "}\r\n",
        "\r\n",
        "experiment_config = AutoMLConfig(training_data=df_train, **settings)"
      ],
      "outputs": [],
      "execution_count": 11,
      "metadata": {
        "collapsed": true,
        "jupyter": {
          "source_hidden": false,
          "outputs_hidden": false
        },
        "nteract": {
          "transient": {
            "deleting": false
          }
        },
        "gather": {
          "logged": 1611699239221
        }
      }
    },
    {
      "cell_type": "markdown",
      "source": [
        "## Uruchamianie eksperymentu"
      ],
      "metadata": {
        "nteract": {
          "transient": {
            "deleting": false
          }
        }
      }
    },
    {
      "cell_type": "code",
      "source": [
        "experiment = Experiment(ws, \"PWAutoMLFinalExperiment\")\r\n",
        "experiment_result = experiment.submit(experiment_config, show_output=True)"
      ],
      "outputs": [
        {
          "output_type": "stream",
          "name": "stdout",
          "text": [
            "No run_configuration provided, running on local with default configuration\n",
            "Running on local machine\n",
            "Parent Run ID: AutoML_736718c1-f7f7-413d-ad6b-78121c710292\n",
            "\n",
            "Current status: DatasetEvaluation. Gathering dataset statistics.\n",
            "Current status: FeaturesGeneration. Generating features for the dataset.\n",
            "Current status: DatasetFeaturization. Beginning to fit featurizers and featurize the dataset.\n",
            "Current status: DatasetFeaturizationCompleted. Completed fit featurizers and featurizing the dataset.\n",
            "Current status: DatasetCrossValidationSplit. Generating individually featurized CV splits.\n",
            "\n",
            "****************************************************************************************************\n",
            "DATA GUARDRAILS: \n",
            "\n",
            "TYPE:         Missing feature values imputation\n",
            "STATUS:       DONE\n",
            "DESCRIPTION:  If the missing values are expected, let the run complete. Otherwise cancel the current run and use a script to customize the handling of missing feature values that may be more appropriate based on the data type and business requirement.\n",
            "              Learn more about missing value imputation: https://aka.ms/AutomatedMLFeaturization\n",
            "DETAILS:      \n",
            "+---------------------------------+---------------------------------+---------------------------------+\n",
            "|Column name                      |Missing value count              |Imputation type                  |\n",
            "+=================================+=================================+=================================+\n",
            "|sqft_above                       |2                                |mean                             |\n",
            "+---------------------------------+---------------------------------+---------------------------------+\n",
            "\n",
            "****************************************************************************************************\n",
            "\n",
            "TYPE:         High cardinality feature detection\n",
            "STATUS:       DONE\n",
            "DESCRIPTION:  High cardinality features were detected in your inputs and handled.\n",
            "              Learn more about high cardinality feature handling: https://aka.ms/AutomatedMLFeaturization\n",
            "DETAILS:      High cardinality features refer to columns that contain a large percentage of unique values.\n",
            "+---------------------------------+---------------------------------+\n",
            "|Column name                      |Column Content Type              |\n",
            "+=================================+=================================+\n",
            "|date                             |categorical_hash                 |\n",
            "+---------------------------------+---------------------------------+\n",
            "\n",
            "****************************************************************************************************\n",
            "Current status: ModelSelection. Beginning model selection.\n",
            "\n",
            "****************************************************************************************************\n",
            "ITERATION: The iteration being evaluated.\n",
            "PIPELINE: A summary description of the pipeline being evaluated.\n",
            "DURATION: Time taken for the current iteration.\n",
            "METRIC: The result of computing score on the fitted pipeline.\n",
            "BEST: The best observed score thus far.\n",
            "****************************************************************************************************\n",
            "\n",
            " ITERATION   PIPELINE                                       DURATION      METRIC      BEST\n",
            "         0   MaxAbsScaler LightGBM                          0:00:26       0.0180    0.0180\n",
            "         1   MaxAbsScaler XGBoostRegressor                  0:00:25       0.0199    0.0180\n",
            "         2   StandardScalerWrapper ElasticNet               0:00:41       0.0277    0.0180\n",
            "         3   MaxAbsScaler DecisionTree                      0:00:26       0.0333    0.0180\n",
            "         4   MaxAbsScaler ElasticNet                        0:01:17       0.0310    0.0180\n",
            "         5   MaxAbsScaler DecisionTree                      0:00:25       0.0304    0.0180\n",
            "         6   MaxAbsScaler DecisionTree                      0:00:25       0.0287    0.0180\n",
            "         7   MaxAbsScaler DecisionTree                      0:00:25       0.0308    0.0180\n",
            "         8   MaxAbsScaler DecisionTree                      0:00:25       0.0324    0.0180\n",
            "         9   MaxAbsScaler DecisionTree                      0:00:24       0.0290    0.0180\n",
            "        10   MaxAbsScaler DecisionTree                      0:00:29       0.0315    0.0180\n",
            "        11   MaxAbsScaler DecisionTree                      0:00:27       0.0280    0.0180\n",
            "        12   MaxAbsScaler DecisionTree                      0:00:25       0.0332    0.0180\n",
            "        13   StandardScalerWrapper DecisionTree             0:00:24       0.0314    0.0180\n",
            "        14   MaxAbsScaler DecisionTree                      0:00:24       0.0341    0.0180\n",
            "        15   MaxAbsScaler DecisionTree                      0:00:24       0.0337    0.0180\n",
            "        16   MaxAbsScaler SGD                               0:00:24       0.0307    0.0180\n",
            "        17   MaxAbsScaler DecisionTree                      0:00:27       0.0277    0.0180\n",
            "        18   VotingEnsemble                                 0:00:35       0.0179    0.0179\n",
            "        19   StackEnsemble                                  0:00:36       0.0179    0.0179\n",
            "****************************************************************************************************\n",
            "Current status: BestRunExplainModel. Best run model explanations started\n",
            "Current status: ModelExplanationDataSetSetup. Model explanations data setup completed\n",
            "Current status: PickSurrogateModel. Choosing LightGBM as the surrogate model for explanations\n",
            "Current status: EngineeredFeatureExplanations. Computation of engineered features started\n",
            "Current status: EngineeredFeatureExplanations. Computation of engineered features completed\n",
            "Current status: RawFeaturesExplanations. Computation of raw features started\n",
            "Current status: RawFeaturesExplanations. Computation of raw features completed\n",
            "Current status: BestRunExplainModel. Best run model explanations completed\n",
            "****************************************************************************************************\n"
          ]
        },
        {
          "output_type": "stream",
          "name": "stderr",
          "text": [
            "Cannot serialize JSON, possibly due to NaN or Inf, scrubbing to zero and retrying...\n"
          ]
        }
      ],
      "execution_count": 12,
      "metadata": {
        "collapsed": true,
        "jupyter": {
          "source_hidden": false,
          "outputs_hidden": false
        },
        "nteract": {
          "transient": {
            "deleting": false
          }
        },
        "gather": {
          "logged": 1611699944623
        }
      }
    },
    {
      "cell_type": "markdown",
      "source": [
        "## Prezentacja wyników"
      ],
      "metadata": {
        "nteract": {
          "transient": {
            "deleting": false
          }
        }
      }
    },
    {
      "cell_type": "markdown",
      "source": [
        "## Wczytanie najlepszego modelu"
      ],
      "metadata": {
        "nteract": {
          "transient": {
            "deleting": false
          }
        }
      }
    },
    {
      "cell_type": "code",
      "source": [
        "best_run, fitted_model = experiment_result.get_output()"
      ],
      "outputs": [],
      "execution_count": 16,
      "metadata": {
        "collapsed": true,
        "jupyter": {
          "source_hidden": false,
          "outputs_hidden": false
        },
        "nteract": {
          "transient": {
            "deleting": false
          }
        },
        "gather": {
          "logged": 1611700527496
        }
      }
    },
    {
      "cell_type": "markdown",
      "source": [
        "## Predykcja na zbiorze testowym i pomiar jakości wyników"
      ],
      "metadata": {
        "nteract": {
          "transient": {
            "deleting": false
          }
        }
      }
    },
    {
      "cell_type": "code",
      "source": [
        "X_test = df_test.drop(\"price\", axis=1)\r\n",
        "y_test = df_test[\"price\"]\r\n",
        "y_pred = fitted_model.predict(X_test)\r\n",
        "rmse_test = mean_squared_error(y_test, y_pred, squared=False)\r\n",
        "print(f\"Root mean squared error: {rmse_test}\")"
      ],
      "outputs": [
        {
          "output_type": "stream",
          "name": "stdout",
          "text": [
            "Root mean squared error: 130578.41935839684\n"
          ]
        }
      ],
      "execution_count": 17,
      "metadata": {
        "collapsed": true,
        "jupyter": {
          "source_hidden": false,
          "outputs_hidden": false
        },
        "nteract": {
          "transient": {
            "deleting": false
          }
        },
        "gather": {
          "logged": 1611700529433
        }
      }
    }
  ],
  "metadata": {
    "kernelspec": {
      "name": "python3-azureml",
      "language": "python",
      "display_name": "Python 3.6 - AzureML"
    },
    "language_info": {
      "name": "python",
      "version": "3.6.9",
      "mimetype": "text/x-python",
      "codemirror_mode": {
        "name": "ipython",
        "version": 3
      },
      "pygments_lexer": "ipython3",
      "nbconvert_exporter": "python",
      "file_extension": ".py"
    },
    "kernel_info": {
      "name": "python3-azureml"
    },
    "nteract": {
      "version": "nteract-front-end@1.0.0"
    }
  },
  "nbformat": 4,
  "nbformat_minor": 2
}